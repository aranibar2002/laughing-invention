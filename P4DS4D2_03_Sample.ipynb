{
  "nbformat": 4,
  "nbformat_minor": 0,
  "metadata": {
    "kernelspec": {
      "display_name": "Python 3",
      "language": "python",
      "name": "python3"
    },
    "language_info": {
      "codemirror_mode": {
        "name": "ipython",
        "version": 3
      },
      "file_extension": ".py",
      "mimetype": "text/x-python",
      "name": "python",
      "nbconvert_exporter": "python",
      "pygments_lexer": "ipython3",
      "version": "3.6.5"
    },
    "colab": {
      "name": "P4DS4D2_03_Sample.ipynb",
      "provenance": [],
      "include_colab_link": true
    }
  },
  "cells": [
    {
      "cell_type": "markdown",
      "metadata": {
        "id": "view-in-github",
        "colab_type": "text"
      },
      "source": [
        "<a href=\"https://colab.research.google.com/github/aranibar2002/laughing-invention/blob/main/P4DS4D2_03_Sample.ipynb\" target=\"_parent\"><img src=\"https://colab.research.google.com/assets/colab-badge.svg\" alt=\"Open In Colab\"/></a>"
      ]
    },
    {
      "cell_type": "markdown",
      "metadata": {
        "id": "-8odTkxzeWZ7"
      },
      "source": [
        "# Downloading the Datasets and Example Code"
      ]
    },
    {
      "cell_type": "code",
      "metadata": {
        "id": "9OEghk5FeWaC"
      },
      "source": [
        ""
      ],
      "execution_count": null,
      "outputs": []
    },
    {
      "cell_type": "markdown",
      "metadata": {
        "id": "OTb67uTLeWaD"
      },
      "source": [
        "## Defining the code repository"
      ]
    },
    {
      "cell_type": "code",
      "metadata": {
        "id": "KJP_xU13eWaD"
      },
      "source": [
        ""
      ],
      "execution_count": null,
      "outputs": []
    },
    {
      "cell_type": "markdown",
      "metadata": {
        "id": "KMifAQSEeWaE"
      },
      "source": [
        "### Adding notebook content "
      ]
    },
    {
      "cell_type": "code",
      "metadata": {
        "id": "wGhzxZ_xeWaE",
        "outputId": "26263755-6e69-4441-cd27-db0efd543ce9"
      },
      "source": [
        "print('Python is really cool!')"
      ],
      "execution_count": null,
      "outputs": [
        {
          "output_type": "stream",
          "text": [
            "Python is really cool!\n"
          ],
          "name": "stdout"
        }
      ]
    },
    {
      "cell_type": "code",
      "metadata": {
        "id": "ABie2jxTeWaG"
      },
      "source": [
        ""
      ],
      "execution_count": null,
      "outputs": []
    }
  ]
}